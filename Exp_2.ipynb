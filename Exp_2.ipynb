{
  "nbformat": 4,
  "nbformat_minor": 0,
  "metadata": {
    "colab": {
      "provenance": []
    },
    "kernelspec": {
      "name": "python3",
      "display_name": "Python 3"
    },
    "language_info": {
      "name": "python"
    }
  },
  "cells": [
    {
      "cell_type": "code",
      "execution_count": 1,
      "metadata": {
        "colab": {
          "base_uri": "https://localhost:8080/"
        },
        "id": "LEvTR5u17Svp",
        "outputId": "053bf792-dd97-44b4-d5c9-a2d435878186"
      },
      "outputs": [
        {
          "output_type": "stream",
          "name": "stdout",
          "text": [
            "Reg No: 111722202026\n",
            "\n",
            "\n",
            "RSS 0.25 1.0 0.0 0.25\n",
            "Error 0.8928571428571429\n"
          ]
        }
      ],
      "source": [
        "val1 = (1 - (2.5 * 1 + (-2)))**2\n",
        "val2 = (2 - (2.5 * 2 + (-2)))**2\n",
        "val3 = (3 - (2.5 * 2 + (-2)))**2\n",
        "val4 = (6 - (2.5 * 3 + (-2)))**2\n",
        "rss = val1 + val2 + val3 + val4\n",
        "print(\"Reg No: 111722202026\")\n",
        "print(\"\\n\")\n",
        "print(\"RSS\", val1, val2, val3, val4)\n",
        "y = [1, 2, 3, 6]\n",
        "y_mean = sum(y) / len(y)\n",
        "y_var = sum((yi - y_mean)**2 for yi in y)\n",
        "tss = y_var\n",
        "\n",
        "r_squared = 1 - (rss / tss)\n",
        "print(\"Error\", r_squared)"
      ]
    },
    {
      "cell_type": "code",
      "source": [
        "def adjusted_r_squared(r_squared, n, k):\n",
        "  adjusted_r_squared = 1 - ((1 - r_squared) * (n - 1) / (n - k - 1))\n",
        "  return adjusted_r_squared\n",
        "r_squared_value = 0.75\n",
        "n_obs = 100\n",
        "n_pred = 3\n",
        "result = adjusted_r_squared(r_squared_value, n_obs, n_pred)\n",
        "\n",
        "print(\"Adjusted R-squared:\", result)\n",
        "print(\"reg no:111722202026\")"
      ],
      "metadata": {
        "colab": {
          "base_uri": "https://localhost:8080/"
        },
        "id": "6ENRGiIL72ci",
        "outputId": "0ff11c64-7443-4f3c-e147-9a47715b0494"
      },
      "execution_count": 5,
      "outputs": [
        {
          "output_type": "stream",
          "name": "stdout",
          "text": [
            "Adjusted R-squared: 0.7421875\n",
            "reg no:111722202026\n"
          ]
        }
      ]
    },
    {
      "cell_type": "code",
      "source": [
        "import numpy as np\n",
        "def mean_absolute_error(y_true, y_pred):\n",
        "  n = len(y_true)\n",
        "  var = sum(abs(y_true[i] - y_pred[i]) for i in range(n)) / n\n",
        "  return var\n",
        "actual = [2, 4, 6, 8, 10]\n",
        "predicted = [1.5, 4.2, 5.8, 7.5, 9.8]\n",
        "var_res = mean_absolute_error(actual, predicted)\n",
        "print(\"Reg no:111722202026\")\n",
        "print(f\"MAE: {var_res}\")"
      ],
      "metadata": {
        "id": "ytXO31i-9bu3",
        "outputId": "28413f16-ebbf-4260-8293-a82005d25cb1",
        "colab": {
          "base_uri": "https://localhost:8080/"
        }
      },
      "execution_count": 9,
      "outputs": [
        {
          "output_type": "stream",
          "name": "stdout",
          "text": [
            "Reg no:111722202026\n",
            "MAE: 0.31999999999999995\n"
          ]
        }
      ]
    },
    {
      "cell_type": "code",
      "source": [
        "import numpy as np\n",
        "def mean_squared_error(y_true, y_pred):\n",
        "  squared_diff = (y_true - y_pred)**2\n",
        "  mse = np.mean(squared_diff)\n",
        "  return mse\n",
        "y_true = np.array([3, -0.5, 2, 7])\n",
        "y_pred = np.array([2.2, 0.0, 2, 8])\n",
        "mse = mean_squared_error(y_true, y_pred)\n",
        "print(\"Reg no:111722202026\")\n",
        "print(f\"mse: {mse}\")"
      ],
      "metadata": {
        "id": "LvL8w4MX91_H",
        "outputId": "cda6727d-3716-4b90-dcc4-3550aa5cc624",
        "colab": {
          "base_uri": "https://localhost:8080/"
        }
      },
      "execution_count": 8,
      "outputs": [
        {
          "output_type": "stream",
          "name": "stdout",
          "text": [
            "Reg no:111722202026\n",
            "mse: 0.4724999999999999\n"
          ]
        }
      ]
    }
  ]
}